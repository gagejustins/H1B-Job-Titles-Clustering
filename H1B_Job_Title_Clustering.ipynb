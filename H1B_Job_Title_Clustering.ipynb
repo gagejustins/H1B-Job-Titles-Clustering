{
 "cells": [
  {
   "cell_type": "markdown",
   "metadata": {},
   "source": [
    "## Clustering to clean H1B Job Titles"
   ]
  },
  {
   "cell_type": "markdown",
   "metadata": {},
   "source": [
    "The goal of this project is to try to replicate the clustering functionality of Google's OpenRefine software. The idea is that in some data fields, unstructured entries that are spelled differently, etc., may really mean the same thing. "
   ]
  },
  {
   "cell_type": "markdown",
   "metadata": {},
   "source": [
    "First, let's import the necessary packages."
   ]
  },
  {
   "cell_type": "code",
   "execution_count": 16,
   "metadata": {
    "collapsed": false
   },
   "outputs": [],
   "source": [
    "%matplotlib inline\n",
    "import matplotlib.pyplot as plt\n",
    "import seaborn as sns\n",
    "\n",
    "import pandas as pd\n",
    "import numpy as np\n",
    "\n",
    "import sklearn.cluster\n",
    "import distance"
   ]
  },
  {
   "cell_type": "markdown",
   "metadata": {},
   "source": [
    "The data is taken from governmental records of applications for HB1 visas. You can find it here: https://nyu.app.box.com/s/9oz3qx886zpwwfm6ewj89pvjuee2eqp5. I saved it with a csv extension in Sublime."
   ]
  },
  {
   "cell_type": "markdown",
   "metadata": {},
   "source": [
    "First, let's load the data into a dataframe so we can steal the column we want."
   ]
  },
  {
   "cell_type": "code",
   "execution_count": 8,
   "metadata": {
    "collapsed": false
   },
   "outputs": [
    {
     "data": {
      "text/plain": [
       "SUBMITTED_DATE           object\n",
       "CASE_NO                  object\n",
       "NAME                     object\n",
       "ADDRESS                  object\n",
       "ADDRESS2                 object\n",
       "CITY                     object\n",
       "STATE                    object\n",
       "POSTAL_CODE              object\n",
       "NBR_IMMIGRANTS            int64\n",
       "BEGIN_DATE               object\n",
       "END_DATE                 object\n",
       "JOB_TITLE                object\n",
       "DOL_DECISION_DATE        object\n",
       "CERTIFIED_BEGIN_DATE     object\n",
       "CERTIFIED_END_DATE       object\n",
       "JOB_CODE                  int64\n",
       "APPROVAL_STATUS          object\n",
       "WAGE_RATE_1             float64\n",
       "RATE_PER_1               object\n",
       "MAX_RATE_1              float64\n",
       "PART_TIME_1              object\n",
       "CITY_1                   object\n",
       "STATE_1                  object\n",
       "PREVAILING_WAGE_1       float64\n",
       "WAGE_SOURCE_1            object\n",
       "YR_SOURCE_PUB_1         float64\n",
       "OTHER_WAGE_SOURCE_1      object\n",
       "WAGE_RATE_2             float64\n",
       "RATE_PER_2               object\n",
       "MAX_RATE_2              float64\n",
       "PART_TIME_2              object\n",
       "CITY_2                   object\n",
       "STATE_2                  object\n",
       "PREVAILING_WAGE_2       float64\n",
       "WAGE_SOURCE_2            object\n",
       "YR_SOURCE_PUB_2         float64\n",
       "OTHER_WAGE_SOURCE_2      object\n",
       "dtype: object"
      ]
     },
     "execution_count": 8,
     "metadata": {},
     "output_type": "execute_result"
    }
   ],
   "source": [
    "df = pd.read_csv(\"H1B.csv\")\n",
    "df.dtypes"
   ]
  },
  {
   "cell_type": "markdown",
   "metadata": {},
   "source": [
    "We're going to be working with job titles. We'll group the dataframe by titles, and then extract each one to a list to pass into a clustering algorithm."
   ]
  },
  {
   "cell_type": "code",
   "execution_count": 38,
   "metadata": {
    "collapsed": false
   },
   "outputs": [],
   "source": [
    "titles = df.groupby('JOB_TITLE')\n",
    "\n",
    "jobs = []\n",
    "counter = 0\n",
    "\n",
    "for group in titles.groups:\n",
    "    if group not in jobs:\n",
    "        jobs.append(group)\n",
    "        counter += 1\n",
    "    if counter >= 200:\n",
    "        break\n",
    "\n",
    "jobs_array = np.asarray(jobs)"
   ]
  },
  {
   "cell_type": "markdown",
   "metadata": {},
   "source": [
    "As you can see if you scroll through the list, even once we've taken the unique titles out of the dataframe, there are tons of overlapping positions. There are lower case and upper case, words switched around, misspellings, etc. If we want to make this data useful and visualize it, we'll need to clean this up."
   ]
  },
  {
   "cell_type": "markdown",
   "metadata": {},
   "source": [
    "The way to calculate the similarity between strings is called the \"Levenshtein Distance.\" Code borrowed from http://stats.stackexchange.com/questions/123060/clustering-a-long-list-of-strings-words-into-similarity-groups."
   ]
  },
  {
   "cell_type": "code",
   "execution_count": 47,
   "metadata": {
    "collapsed": false
   },
   "outputs": [],
   "source": [
    "lev_similarity = -1 * np.array([[distance.levenshtein(j1,j2) for j1 in jobs_array] for j2 in jobs_array])"
   ]
  },
  {
   "cell_type": "markdown",
   "metadata": {},
   "source": [
    "So we've created a matrix (in array form) of the Levenshtein Distance of each job title from the other job titles in the original jobs array. Here's what it looks like:"
   ]
  },
  {
   "cell_type": "code",
   "execution_count": 48,
   "metadata": {
    "collapsed": false
   },
   "outputs": [
    {
     "data": {
      "text/plain": [
       "array([[  0, -25, -25, ..., -24, -24, -26],\n",
       "       [-25,   0, -42, ..., -37, -39, -42],\n",
       "       [-25, -42,   0, ..., -24, -19, -19],\n",
       "       ..., \n",
       "       [-24, -37, -24, ...,   0, -23, -24],\n",
       "       [-24, -39, -19, ..., -23,   0, -16],\n",
       "       [-26, -42, -19, ..., -24, -16,   0]])"
      ]
     },
     "execution_count": 48,
     "metadata": {},
     "output_type": "execute_result"
    }
   ],
   "source": [
    "lev_similarity"
   ]
  },
  {
   "cell_type": "markdown",
   "metadata": {},
   "source": [
    "Now we'll cluster these values. Affinity Propagation seems to be the right algorithm for the job, since we've already calculated the Levenshtein Distances for our jobs array. "
   ]
  },
  {
   "cell_type": "markdown",
   "metadata": {},
   "source": [
    "Affinity Propagation seems similar to K-Means, but instead of clustering and then re-iterating, the algorithm sends messages from data to other data to figure out what's close and what's not. K-Means, on the other hand, chooses random centroids (not the case in AP) and then figures out which points are closest. I've learned the small amount I know from here: http://www.psi.toronto.edu/affinitypropagation/faq.html."
   ]
  },
  {
   "cell_type": "markdown",
   "metadata": {},
   "source": [
    "Another super important (and helpful) feature of Affinity Propagation is that we don't need to specify the number of centroids / exemplars, which is key for the nature of our data set."
   ]
  },
  {
   "cell_type": "code",
   "execution_count": 100,
   "metadata": {
    "collapsed": false
   },
   "outputs": [
    {
     "data": {
      "text/plain": [
       "AffinityPropagation(affinity='precomputed', convergence_iter=15, copy=True,\n",
       "          damping=0.5, max_iter=200, preference=None, verbose=False)"
      ]
     },
     "execution_count": 100,
     "metadata": {},
     "output_type": "execute_result"
    }
   ],
   "source": [
    "affprop = sklearn.cluster.AffinityPropagation(affinity=\"precomputed\", damping = 0.5)\n",
    "affprop.fit(lev_similarity)"
   ]
  },
  {
   "cell_type": "markdown",
   "metadata": {},
   "source": [
    "Now that we fit the model, let's print out all of the clusters into a dictionary."
   ]
  },
  {
   "cell_type": "code",
   "execution_count": 139,
   "metadata": {
    "collapsed": false
   },
   "outputs": [],
   "source": [
    "def orderClusters(array):\n",
    "    \n",
    "    clusters = {}\n",
    "    \n",
    "    for cluster_id in np.unique(affprop.labels_):\n",
    "\n",
    "        exemplar = array[affprop.cluster_centers_indices_[cluster_id]]\n",
    "\n",
    "        cluster = np.unique(array[np.nonzero(affprop.labels_==cluster_id)])\n",
    "\n",
    "        if exemplar not in clusters:\n",
    "            clusters[exemplar] = cluster\n",
    "            \n",
    "    return clusters"
   ]
  },
  {
   "cell_type": "code",
   "execution_count": 140,
   "metadata": {
    "collapsed": false
   },
   "outputs": [
    {
     "data": {
      "text/plain": [
       "{'Account Exexcutive': array(['Account Executive I', 'Account Exexcutive', 'Accountant/Bursar',\n",
       "        'International Sales Account Executive', 'Primary Care Provider'], \n",
       "       dtype='|S50'),\n",
       " 'Administrator-Orthodontics Lab Manager': array(['Administrator-Orthodontics Lab Manager'], \n",
       "       dtype='|S50'),\n",
       " 'Application Engineer': array(['Adjunct Trainer', 'Application Engineer', 'Application Engineer I',\n",
       "        'Associate Applications Engineer', 'Chief Sales Engineer',\n",
       "        'Mathematician and Math Modeler',\n",
       "        'Public Relations & Legal Coordinator',\n",
       "        'Receptionist/Information clerk',\n",
       "        'Site Patrol Implementation Engineer', 'immplemetation programmer'], \n",
       "       dtype='|S50'),\n",
       " 'Architect ': array(['ARCHITECT', 'Ag Tech III', 'Aircraft Upholsterer', 'Architect ',\n",
       "        'Auditor', 'Black Belt', 'Botanist', 'IT Architect',\n",
       "        'News Assistant II', 'Pharmacist', 'Phlebotomist',\n",
       "        'Quality Inspector', 'Rearch Fellow', 'Reporter',\n",
       "        'Specialist II-IT', 'Watch Repair'], \n",
       "       dtype='|S50'),\n",
       " 'Asst. Professor': array(['Assistant Editor', 'Assistant Professor of Art',\n",
       "        'Assistant VP - Economist', 'Associate Producer', 'Asst. Professor',\n",
       "        'Real Estate Broker', 'Sales Promoter', 'Ship Surveyor',\n",
       "        'Visiting Professor'], \n",
       "       dtype='|S50'),\n",
       " 'BUDGET ANALYST': array(['BUDGET ANALYST', 'CORRECTIVE THERAPIST', 'IMMUNOLOGIST',\n",
       "        'MARKET RESEARCH ANALYST', 'PROGAMMER ANALYST',\n",
       "        'SOFTWARE CONSULTANT', 'SR. SYSTEMS ANALYST', 'WEB MANAGER'], \n",
       "       dtype='|S50'),\n",
       " 'COMPUTER SYTEM & SOFTWARE DEVELOPER': array(['COMPUTER SYTEM & SOFTWARE DEVELOPER'], \n",
       "       dtype='|S50'),\n",
       " 'Community Pro Soccer Coach and Director ': array(['Community Pro Soccer Coach and Director '], \n",
       "       dtype='|S50'),\n",
       " 'Computer Specialist': array(['Brand Promotion Specialist', 'Computer Science Instructor',\n",
       "        'Computer Specialist', 'Computer Support Specialist',\n",
       "        'Computing Technician/Analyst', 'Financial Specialist',\n",
       "        'Immigration Specialist', 'Infrastructure Specialist',\n",
       "        'Sales Account Manager & Specialist', 'Sr. GIS Specialist',\n",
       "        'Sr. User Support Technician', 'Title Computer support Specialist'], \n",
       "       dtype='|S50'),\n",
       " 'Computer Systems Administrator': array(['Computer Systems Administrator', 'Senior Systems Administrator'], \n",
       "       dtype='|S50'),\n",
       " 'DESIGN ENGINEER': array(['APPLICATION DEVELOPER', 'ASIC DESIGN ENGINEER', 'DESIGN ENGINEER',\n",
       "        'ELECTRICAL & ELECTRONICS ENGINEER', 'FILM EDITOR',\n",
       "        'HARDWARE ENGINEER', 'IT PROFESSIONAL', 'JUNIOR ENGINEER',\n",
       "        'NEWS REPORTER ', 'OPERATIONS ENGINEER', 'PHYSICIAN RESIDENT',\n",
       "        'PHYSICIAN/INTERNIST', 'PLANNING DIRECTOR',\n",
       "        'PUBLIC HEALTH ENGINEER II', 'SOFTWARE ENGINEER III',\n",
       "        'SUPPLY CHAIN APPLICATION ENGINEER'], \n",
       "       dtype='|S50'),\n",
       " 'Div. General Counsel, Africa/Middle East': array(['Div. General Counsel, Africa/Middle East'], \n",
       "       dtype='|S50'),\n",
       " 'FINANCIAL CONTROLLER OF LUXURY GOODS': array(['FINANCIAL CONTROLLER OF LUXURY GOODS'], \n",
       "       dtype='|S50'),\n",
       " 'Food and Beverage Service Director': array(['Food and Beverage Service Director'], \n",
       "       dtype='|S50'),\n",
       " 'HOTEL CULINARY MANAGER PASTRY (ASSISTANT)': array(['DENTAL OFFICE MANAGER AND DENTAL ASSISTANT',\n",
       "        'HOTEL CULINARY MANAGER PASTRY (ASSISTANT)'], \n",
       "       dtype='|S50'),\n",
       " 'INTERNATIONAL SALES REPRESENTATIVE': array(['INTERNATIONAL SALES REPRESENTATIVE'], \n",
       "       dtype='|S50'),\n",
       " 'IT Business Systems Analyst': array(['Advanced Engg Systems Engr',\n",
       "        'Business Applications/Systems Analyst',\n",
       "        'IT Business Systems Analyst', 'On Site Geoscience Systems Analyst'], \n",
       "       dtype='|S50'),\n",
       " 'Interim Manager': array(['Assistant Marketing Manager', 'Circulation Manager',\n",
       "        'Client Service Coordinator', 'Cupola Area Manager',\n",
       "        'Document Control Manager', 'Hotel Manager',\n",
       "        'Information System Manager', 'Interim Manager',\n",
       "        'Internet Marketing  Manager', 'Junior Web Programmer',\n",
       "        'Manager, Nursery', 'Manufacturing Scheduler', 'Network Manager',\n",
       "        'Product Manager', 'Regional Sales Manager', 'Staff Member',\n",
       "        'Systems Designer', 'Tournament and Events Manager'], \n",
       "       dtype='|S50'),\n",
       " 'Lead Computer Consultant/Programmer Analyst': array(['Lead Computer Consultant/Programmer Analyst'], \n",
       "       dtype='|S50'),\n",
       " 'MANAGER/BIOSTATISTICS': array(['ADMINISTRATIVE ASSISTANT', 'MANAGER , BIOSTATISTICS',\n",
       "        'MANAGER/BIOSTATISTICS'], \n",
       "       dtype='|S50'),\n",
       " 'Oracle Software Engineer': array(['Oracle Software Engineer', 'Oracle/Java Software Developer',\n",
       "        'Research Software Design Engineer', 'Software Project Engineer',\n",
       "        'Staff Senior Software Engineer', 'systems software engineer'], \n",
       "       dtype='|S50'),\n",
       " 'PostDoctoral Fellow': array(['PGY 4 Medical Resident/Fellow ', 'Post Doctoral Fellow',\n",
       "        'Post Doctoral Fellow in Zoology', 'PostDoctoral Fellow',\n",
       "        'Postdoctoral Appointee', 'Postdoctoral Scholar',\n",
       "        'Postdoctoral Scientist'], \n",
       "       dtype='|S50'),\n",
       " 'Programming Analyst': array(['Derivatives Analyst', 'Lead Technical Analyst',\n",
       "        'Marketing/Business Analyst', 'Programming Analyst',\n",
       "        'Sr. Product Support Analyst', 'Systems Analyst I',\n",
       "        'programmer/analyst'], \n",
       "       dtype='|S50'),\n",
       " 'REAL ESTATE MANAGER': array(['ADMINIDTRATIVE MANAGER', 'BUSINESS DEVELOPMENT MANAGER ',\n",
       "        'DEVELOPMENT SYSTEM ARCHITECT', 'DIRECTOR PRODUCT MANAGEMENT',\n",
       "        'FRONT OFFICE MANAGER', 'HOTEL CULINARY MANAGER',\n",
       "        'LEISURE TRAVEL SUPERVISOR', 'LIAISON AND MARKETING MANAGER',\n",
       "        'PORTFOLIO ANALYST RISK MANAGEMENT', 'REAL ESTATE MANAGER',\n",
       "        'RESEARCH ASSISTANT PROFESSOR', 'SPEECH AND LANGUAGE PATHOLOGIST',\n",
       "        'WEB DESIGNER DBA ADMIN'], \n",
       "       dtype='|S50'),\n",
       " 'SENIOR SPECIALIST, IT': array(['CLINICAL RESEARCH ASSOCIATE II', 'COMPUTER SUPPORT SPECIALIST',\n",
       "        'PATENT SPECIALIST(Chemical Arts)', 'SENIOR NETWORK ADMINISTRATOR',\n",
       "        'SENIOR SPECIALIST, IT'], \n",
       "       dtype='|S50'),\n",
       " 'SOFTWARE DESIGN ENGINEER/LEVEL 62': array(['SOFTWARE DESIGN ENGINEER 1 & 2',\n",
       "        'SOFTWARE DESIGN ENGINEER/LEVEL 62',\n",
       "        'SOFTWARE DESIGN ENGINEER/LEVEL 64'], \n",
       "       dtype='|S50'),\n",
       " 'SR BUS DEVELOPER JAPANESE BUS ORGANIZATIO': array(['SR BUS DEVELOPER JAPANESE BUS ORGANIZATIO'], \n",
       "       dtype='|S50'),\n",
       " 'SR. FINANCIAL TECHNOLOGY ADVISOR': array(['SR. FINANCIAL TECHNOLOGY ADVISOR'], \n",
       "       dtype='|S50'),\n",
       " 'Senior Application Developer': array(['Chief Information OfficerBrooklyn',\n",
       "        'Computer Specialist (Application Development)',\n",
       "        'Senior Application Developer', 'Senior International Paralegal',\n",
       "        'Senior Website Developer', 'Web Applications Developer'], \n",
       "       dtype='|S50'),\n",
       " 'Senior Research Chemist': array(['Member Research Staff', 'Principal Research Chemist',\n",
       "        'Senior Object Technology Consultant', 'Senior Research Chemist',\n",
       "        'Senior Research Technician', 'Sr. Research Technologist'], \n",
       "       dtype='|S50'),\n",
       " 'Senior Scientist': array(['Computational Scientist', 'Endocrine Biologist',\n",
       "        'Materials Scientist', 'Principal Investigator',\n",
       "        'Seconday School Teacher', 'Senior Scientist', 'Staff Scientist I',\n",
       "        'Systems Accountant', 'V.P. Engineering & Operations'], \n",
       "       dtype='|S50'),\n",
       " 'Sheet Metal Worker and Supervisor': array(['Sheet Metal Worker and Supervisor'], \n",
       "       dtype='|S50'),\n",
       " 'Software Developer II': array(['Postgraduate Researcher IV', 'Software Developer II',\n",
       "        'Software development engineer', 'Sr. Software Developer',\n",
       "        'Systems Developer I'], \n",
       "       dtype='|S50'),\n",
       " 'Software Engineer (Project Lead)': array(['Software Engineer (Appl Engineer 4, Proj Leader)',\n",
       "        'Software Engineer (Consultant)',\n",
       "        'Software Engineer (Project Lead)',\n",
       "        'Software Engineer (Software Development Director)',\n",
       "        'Software Engineer, Level 2', 'Systems Engineering Tech. - IT'], \n",
       "       dtype='|S50'),\n",
       " 'Software Engineer (Senior Member, Technical Staff)': array(['Software Engineer (Senior Member, Technical Staff)'], \n",
       "       dtype='|S50'),\n",
       " 'Staff Research Associate': array(['Development Associate', 'Graduate Research Assistant',\n",
       "        'International Associate Nurse', 'Physical Therapy Assistant',\n",
       "        'Senior Program Associate', 'Staff Research Associate',\n",
       "        'postdoctoralresearchassociate'], \n",
       "       dtype='|S50'),\n",
       " 'VICE PRESIDENT & CHIEF OPERATING OFFICER': array(['VICE PRESIDENT & CHIEF OPERATING OFFICER'], \n",
       "       dtype='|S50'),\n",
       " 'Vice President/Investment Strategist UK Equities': array(['Vice President/Investment Strategist UK Equities'], \n",
       "       dtype='|S50'),\n",
       " 'resident PGY-1 Transitional year program': array(['resident PGY-1 Transitional year program'], \n",
       "       dtype='|S50')}"
      ]
     },
     "execution_count": 140,
     "metadata": {},
     "output_type": "execute_result"
    }
   ],
   "source": [
    "clusters = orderClusters(jobs_array)\n",
    "clusters"
   ]
  },
  {
   "cell_type": "markdown",
   "metadata": {},
   "source": [
    "Definitely not bad for a first run through! Starting from the top, a lot of these make sense. The first key is 'Account Executive', and the cluster includes values like 'Accountant/Bursar', which is indeed similar."
   ]
  },
  {
   "cell_type": "markdown",
   "metadata": {},
   "source": [
    "But there are also a few pretty bad ones. 'Primary Care Provider' certainly shouldn't be in the 'Account Executive' cluster, and should probably be its own exemplar."
   ]
  },
  {
   "cell_type": "markdown",
   "metadata": {},
   "source": [
    "If we adjust the \"preference\" argument, we can force the algorithm to employ more clusters. To see how changing the preference changes our cluster size, we'll run it a few different times to find the length of the dictionary (i.e. the number of exemplars)."
   ]
  },
  {
   "cell_type": "code",
   "execution_count": 165,
   "metadata": {
    "collapsed": false
   },
   "outputs": [
    {
     "data": {
      "text/plain": [
       "139"
      ]
     },
     "execution_count": 165,
     "metadata": {},
     "output_type": "execute_result"
    }
   ],
   "source": [
    "affprop = sklearn.cluster.AffinityPropagation(affinity=\"precomputed\", damping = 0.5, preference = -10)\n",
    "affprop.fit(lev_similarity)\n",
    "clusters = orderClusters(jobs_array)\n",
    "len(clusters)"
   ]
  },
  {
   "cell_type": "code",
   "execution_count": 174,
   "metadata": {
    "collapsed": false
   },
   "outputs": [
    {
     "data": {
      "text/plain": [
       "192"
      ]
     },
     "execution_count": 174,
     "metadata": {},
     "output_type": "execute_result"
    }
   ],
   "source": [
    "affprop = sklearn.cluster.AffinityPropagation(affinity=\"precomputed\", damping = 0.5, preference = -5)\n",
    "affprop.fit(lev_similarity)\n",
    "clusters = orderClusters(jobs_array)\n",
    "len(clusters)"
   ]
  },
  {
   "cell_type": "markdown",
   "metadata": {},
   "source": [
    "The total number of data points that we grabbed is close to being reached, so we can see that as the preference approaches 0, we approach no clusters."
   ]
  }
 ],
 "metadata": {
  "anaconda-cloud": {},
  "kernelspec": {
   "display_name": "Python [Root]",
   "language": "python",
   "name": "Python [Root]"
  },
  "language_info": {
   "codemirror_mode": {
    "name": "ipython",
    "version": 2
   },
   "file_extension": ".py",
   "mimetype": "text/x-python",
   "name": "python",
   "nbconvert_exporter": "python",
   "pygments_lexer": "ipython2",
   "version": "2.7.12"
  }
 },
 "nbformat": 4,
 "nbformat_minor": 0
}
