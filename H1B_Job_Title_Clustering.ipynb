{
 "cells": [
  {
   "cell_type": "markdown",
   "metadata": {},
   "source": [
    "## Clustering to clean H1B Job Titles"
   ]
  },
  {
   "cell_type": "markdown",
   "metadata": {},
   "source": [
    "The goal of this project is to try to replicate the clustering functionality of Google's OpenRefine software. The idea is that in some data fields, unstructured entries that are spelled differently, etc., may really mean the same thing. "
   ]
  },
  {
   "cell_type": "markdown",
   "metadata": {},
   "source": [
    "First, let's import the necessary packages."
   ]
  },
  {
   "cell_type": "code",
   "execution_count": 2,
   "metadata": {
    "collapsed": false
   },
   "outputs": [],
   "source": [
    "%matplotlib inline\n",
    "import matplotlib.pyplot as plt\n",
    "import seaborn as sns\n",
    "\n",
    "import pandas as pd\n",
    "import numpy as np\n",
    "\n",
    "import sklearn.cluster\n",
    "import distance"
   ]
  },
  {
   "cell_type": "markdown",
   "metadata": {},
   "source": [
    "The data is taken from governmental records of applications for HB1 visas. You can find it here: https://nyu.app.box.com/s/9oz3qx886zpwwfm6ewj89pvjuee2eqp5. I saved it with a csv extension in Sublime."
   ]
  },
  {
   "cell_type": "markdown",
   "metadata": {},
   "source": [
    "First, let's load the data into a dataframe so we can steal the column we want."
   ]
  },
  {
   "cell_type": "code",
   "execution_count": 3,
   "metadata": {
    "collapsed": false
   },
   "outputs": [
    {
     "data": {
      "text/plain": [
       "SUBMITTED_DATE           object\n",
       "CASE_NO                  object\n",
       "NAME                     object\n",
       "ADDRESS                  object\n",
       "ADDRESS2                 object\n",
       "CITY                     object\n",
       "STATE                    object\n",
       "POSTAL_CODE              object\n",
       "NBR_IMMIGRANTS            int64\n",
       "BEGIN_DATE               object\n",
       "END_DATE                 object\n",
       "JOB_TITLE                object\n",
       "DOL_DECISION_DATE        object\n",
       "CERTIFIED_BEGIN_DATE     object\n",
       "CERTIFIED_END_DATE       object\n",
       "JOB_CODE                  int64\n",
       "APPROVAL_STATUS          object\n",
       "WAGE_RATE_1             float64\n",
       "RATE_PER_1               object\n",
       "MAX_RATE_1              float64\n",
       "PART_TIME_1              object\n",
       "CITY_1                   object\n",
       "STATE_1                  object\n",
       "PREVAILING_WAGE_1       float64\n",
       "WAGE_SOURCE_1            object\n",
       "YR_SOURCE_PUB_1         float64\n",
       "OTHER_WAGE_SOURCE_1      object\n",
       "WAGE_RATE_2             float64\n",
       "RATE_PER_2               object\n",
       "MAX_RATE_2              float64\n",
       "PART_TIME_2              object\n",
       "CITY_2                   object\n",
       "STATE_2                  object\n",
       "PREVAILING_WAGE_2       float64\n",
       "WAGE_SOURCE_2            object\n",
       "YR_SOURCE_PUB_2         float64\n",
       "OTHER_WAGE_SOURCE_2      object\n",
       "dtype: object"
      ]
     },
     "execution_count": 3,
     "metadata": {},
     "output_type": "execute_result"
    }
   ],
   "source": [
    "df = pd.read_csv(\"H1B.csv\")\n",
    "df.dtypes"
   ]
  },
  {
   "cell_type": "markdown",
   "metadata": {},
   "source": [
    "We're going to be working with job titles. First, let's take a look at what our job titles look like so we can understand the problem. We'll group the dataframe by titles, and then extract each one to a numpy array."
   ]
  },
  {
   "cell_type": "code",
   "execution_count": 16,
   "metadata": {
    "collapsed": false
   },
   "outputs": [],
   "source": [
    "titles = df.groupby('JOB_TITLE')"
   ]
  },
  {
   "cell_type": "code",
   "execution_count": 17,
   "metadata": {
    "collapsed": false
   },
   "outputs": [],
   "source": [
    "jobs = []\n",
    "counter = 0\n",
    "\n",
    "for group in titles.groups:\n",
    "    if group not in jobs:\n",
    "        jobs.append(group)\n",
    "        counter += 1\n",
    "    if counter >= 300:\n",
    "        break\n",
    "\n",
    "jobs_array = np.asarray(jobs)"
   ]
  },
  {
   "cell_type": "code",
   "execution_count": 18,
   "metadata": {
    "collapsed": false
   },
   "outputs": [
    {
     "data": {
      "text/plain": [
       "array(['Software Engineer (Consultant)',\n",
       "       'Software Engineer (Software Development Director)',\n",
       "       'Assistant VP - Economist',\n",
       "       'VICE PRESIDENT & CHIEF OPERATING OFFICER', 'PHYSICIAN RESIDENT',\n",
       "       'Network Manager', 'IT Architect', 'BUSINESS DEVELOPMENT MANAGER ',\n",
       "       'PostDoctoral Fellow', 'Adjunct Trainer',\n",
       "       'PATENT SPECIALIST(Chemical Arts)', 'Staff Research Associate',\n",
       "       'SR. FINANCIAL TECHNOLOGY ADVISOR', 'Software Project Engineer',\n",
       "       'COMPUTER SUPPORT SPECIALIST', 'PGY 4 Medical Resident/Fellow ',\n",
       "       'DENTAL OFFICE MANAGER AND DENTAL ASSISTANT', 'PROGAMMER ANALYST',\n",
       "       'Web Applications Developer', 'Computer Systems Administrator'], \n",
       "      dtype='|S50')"
      ]
     },
     "execution_count": 18,
     "metadata": {},
     "output_type": "execute_result"
    }
   ],
   "source": [
    "jobs_array[:20]"
   ]
  },
  {
   "cell_type": "markdown",
   "metadata": {},
   "source": [
    "As you can see if you scroll through the list, even once we've taken the unique titles out of the dataframe, there are tons of overlapping positions. There are lower case and upper case, words switched around, misspellings, etc. If we want to make this data useful and visualize it, we'll need to clean this up."
   ]
  },
  {
   "cell_type": "markdown",
   "metadata": {},
   "source": [
    "First, we can change all of the terms to lowercase. We can argue that it's a good idea to keep the punctuation, but we'll remove it to make it easier on the clustering later on."
   ]
  },
  {
   "cell_type": "code",
   "execution_count": 19,
   "metadata": {
    "collapsed": true
   },
   "outputs": [],
   "source": [
    "#Convert all titles to lower case\n",
    "\n",
    "for i in range(len(jobs_array)):\n",
    "    jobs_array[i] = jobs_array[i].lower()\n",
    "\n",
    "#Strip punctuation\n",
    "\n",
    "for i in range(len(jobs_array)):\n",
    "    jobs_array[i] = jobs_array[i].strip('/.,:;-–')"
   ]
  },
  {
   "cell_type": "markdown",
   "metadata": {},
   "source": [
    "Ok, now our data is ready for clustering."
   ]
  },
  {
   "cell_type": "markdown",
   "metadata": {},
   "source": [
    "The way to calculate the similarity between strings is called the \"Levenshtein Distance.\" Code borrowed from http://stats.stackexchange.com/questions/123060/clustering-a-long-list-of-strings-words-into-similarity-groups. More info on the distance formula here: https://rosettacode.org/wiki/Levenshtein_distance#Python."
   ]
  },
  {
   "cell_type": "code",
   "execution_count": 20,
   "metadata": {
    "collapsed": false
   },
   "outputs": [],
   "source": [
    "lev_similarity = -1 * np.array([[distance.levenshtein(j1,j2) for j1 in jobs_array] for j2 in jobs_array])"
   ]
  },
  {
   "cell_type": "markdown",
   "metadata": {},
   "source": [
    "So we've created a matrix (in array form) of the Levenshtein Distance of each job title from the other job titles in the original jobs array. Here's what it looks like:"
   ]
  },
  {
   "cell_type": "code",
   "execution_count": 21,
   "metadata": {
    "collapsed": false
   },
   "outputs": [
    {
     "data": {
      "text/plain": [
       "array([[  0, -25, -23, ..., -19, -18, -28],\n",
       "       [-25,   0, -40, ..., -38, -36, -37],\n",
       "       [-23, -40,   0, ..., -17, -18, -22],\n",
       "       ..., \n",
       "       [-19, -38, -17, ...,   0, -12, -24],\n",
       "       [-18, -36, -18, ..., -12,   0, -25],\n",
       "       [-28, -37, -22, ..., -24, -25,   0]])"
      ]
     },
     "execution_count": 21,
     "metadata": {},
     "output_type": "execute_result"
    }
   ],
   "source": [
    "lev_similarity"
   ]
  },
  {
   "cell_type": "markdown",
   "metadata": {},
   "source": [
    "Now we'll cluster these values. Affinity Propagation seems to be the right algorithm for the job, since we've already calculated the Levenshtein Distances for our jobs array. The algorithm was first proposed for this purpose here:http://science.sciencemag.org/content/315/5814/972."
   ]
  },
  {
   "cell_type": "markdown",
   "metadata": {},
   "source": [
    "Affinity Propagation seems similar to K-Means, but instead of clustering and then re-iterating, the algorithm sends messages from data to other data to figure out what's close and what's not. K-Means, on the other hand, chooses random centroids (not the case in AP) and then figures out which points are closest. Info from here: http://www.psi.toronto.edu/affinitypropagation/faq.html."
   ]
  },
  {
   "cell_type": "markdown",
   "metadata": {},
   "source": [
    "Another super important (and helpful) feature of Affinity Propagation is that we don't need to specify the number of centroids / exemplars, which is key for the nature of our data set."
   ]
  },
  {
   "cell_type": "code",
   "execution_count": 22,
   "metadata": {
    "collapsed": false
   },
   "outputs": [
    {
     "data": {
      "text/plain": [
       "AffinityPropagation(affinity='precomputed', convergence_iter=15, copy=True,\n",
       "          damping=0.5, max_iter=200, preference=None, verbose=False)"
      ]
     },
     "execution_count": 22,
     "metadata": {},
     "output_type": "execute_result"
    }
   ],
   "source": [
    "affprop = sklearn.cluster.AffinityPropagation(affinity=\"precomputed\", damping = 0.5)\n",
    "affprop.fit(lev_similarity)"
   ]
  },
  {
   "cell_type": "markdown",
   "metadata": {},
   "source": [
    "Now that we fit the model, let's print out all of the clusters into a dictionary."
   ]
  },
  {
   "cell_type": "code",
   "execution_count": 23,
   "metadata": {
    "collapsed": false
   },
   "outputs": [],
   "source": [
    "def orderClusters(array):\n",
    "    \n",
    "    clusters = {}\n",
    "    \n",
    "    for cluster_id in np.unique(affprop.labels_):\n",
    "\n",
    "        exemplar = array[affprop.cluster_centers_indices_[cluster_id]]\n",
    "\n",
    "        cluster = np.unique(array[np.nonzero(affprop.labels_==cluster_id)])\n",
    "\n",
    "        if exemplar not in clusters:\n",
    "            clusters[exemplar] = cluster\n",
    "            \n",
    "    return clusters"
   ]
  },
  {
   "cell_type": "code",
   "execution_count": 24,
   "metadata": {
    "collapsed": false
   },
   "outputs": [
    {
     "data": {
      "text/plain": [
       "{'account exexcutive': array(['account executive i', 'account exexcutive', 'accountant/bursar'], \n",
       "       dtype='|S50'),\n",
       " 'adminidtrative manager': array(['adminidtrative manager', 'administrative assistant',\n",
       "        'administrative officer', 'administrator-orthodontics lab manager',\n",
       "        'document control manager', 'industrial production manager',\n",
       "        'systems adminstrator/e-commerce manager'], \n",
       "       dtype='|S50'),\n",
       " 'application engineer': array(['application developer', 'application engineer',\n",
       "        'application engineer i', 'asic design engineer',\n",
       "        'associate applications engineer',\n",
       "        'electrical & electronics engineer', 'electrical engineer',\n",
       "        'immplemetation programmer', 'operations engineer',\n",
       "        'public health engineer ii', 'site patrol implementation engineer',\n",
       "        'specifications engineer', 'supply chain application engineer'], \n",
       "       dtype='|S50'),\n",
       " 'architect ': array(['actuary', 'adjunct instructor', 'ag tech iii',\n",
       "        'archictecture intern', 'architect', 'architect ', 'black belt',\n",
       "        'it architect', 'math teacher', 'news assistant ii',\n",
       "        'rearch fellow', 'watch repair'], \n",
       "       dtype='|S50'),\n",
       " 'assistant marketing manager': array(['assistant conductor voice', 'assistant marketing manager',\n",
       "        'assistant vp - economist', 'internet marketing  manager',\n",
       "        'liaison and marketing manager'], \n",
       "       dtype='|S50'),\n",
       " 'associate div administrator, latin america div': array(['associate div administrator, latin america div'], \n",
       "       dtype='|S50'),\n",
       " 'associate engineer': array(['adjunct trainer', 'aircraft upholsterer', 'associate engineer',\n",
       "        'associate planner', 'associate producer',\n",
       "        'associate sales & distribution', 'chief sales engineer',\n",
       "        'design engineer', 'hardware engineer', 'junior engineer',\n",
       "        'manufacturing scheduler', 'network field engineer'], \n",
       "       dtype='|S50'),\n",
       " 'asst. professor': array(['adjunct assistant professor', 'assistant editor',\n",
       "        'assistant professor of art', 'asst art dir graphics design',\n",
       "        'asst. professor', 'it professional',\n",
       "        'research assistant professor', 'system programmer',\n",
       "        'visiting professor'], \n",
       "       dtype='|S50'),\n",
       " 'client service coordinator': array(['assistant product coordinator', 'client service coordinator',\n",
       "        'electronic publishing coordinator', 'gallery coordinator',\n",
       "        'patent specialist(chemical arts)',\n",
       "        'public relations & legal coordinator'], \n",
       "       dtype='|S50'),\n",
       " 'community pro soccer coach and director ': array(['community pro soccer coach and director '], \n",
       "       dtype='|S50'),\n",
       " 'computer support specialist': array(['computer specialist', 'computer support specialist',\n",
       "        'tecnical support specialist', 'title computer support specialist'], \n",
       "       dtype='|S50'),\n",
       " 'computer systems administrator': array(['computer science instructor', 'computer systems administrator',\n",
       "        'computer systems analyst/programmer',\n",
       "        'senior network administrator', 'senior systems administrator'], \n",
       "       dtype='|S50'),\n",
       " 'creative director': array(['corrective therapist', 'creative director',\n",
       "        'director of marketing', 'executive marketing director',\n",
       "        'food and beverage service director', 'leisure travel supervisor',\n",
       "        'marketing & advertising director', 'planning director',\n",
       "        'principal investigator', 'program director', 'quality inspector'], \n",
       "       dtype='|S50'),\n",
       " 'dental office manager and dental assistant': array(['dental office manager and dental assistant',\n",
       "        'hotel culinary manager pastry (assistant)'], \n",
       "       dtype='|S50'),\n",
       " 'development systems architect': array(['development associate', 'development system architect',\n",
       "        'development systems architect'], \n",
       "       dtype='|S50'),\n",
       " 'div. general counsel, africa/middle east': array(['div. general counsel, africa/middle east'], \n",
       "       dtype='|S50'),\n",
       " 'financial analysty': array(['computing technician/analyst', 'division financial analyst',\n",
       "        'financial analyst / accountant', 'financial analysty',\n",
       "        'financial specialist', 'lead technical analyst',\n",
       "        'sr. financial technology advisor',\n",
       "        'vp structured financial analyst'], \n",
       "       dtype='|S50'),\n",
       " 'financial controller of luxury goods': array(['financial controller of luxury goods'], \n",
       "       dtype='|S50'),\n",
       " 'geologist': array(['associate', 'botanist', 'endocrine biologist', 'geologist',\n",
       "        'immunologist', 'pharmacist', 'phlebotomist', 'psychologist'], \n",
       "       dtype='|S50'),\n",
       " 'hotel manager': array(['circulation manager', 'cupola area manager',\n",
       "        'hotel culinary manager', 'hotel manager', 'interim manager',\n",
       "        'network manager', 'operations manager ', 'product manager',\n",
       "        'staff member', 'web manager', 'whol. bakery manager'], \n",
       "       dtype='|S50'),\n",
       " 'information specialist': array(['brand promotion specialist', 'chief information officerbrooklyn',\n",
       "        'clinical laboratory technologist', 'financial data specialist',\n",
       "        'immigration specialist', 'information specialist',\n",
       "        'information system manager', 'infrastructure specialist',\n",
       "        'international associate nurse', 'international trade advisor',\n",
       "        'public relations specialist', 'receptionist/information clerk',\n",
       "        'sales account manager & specialist', 'solutions specialist',\n",
       "        'sr. gis specialist', 'technical solutions specialist'], \n",
       "       dtype='|S50'),\n",
       " 'international sales representative': array(['international sales account executive',\n",
       "        'international sales representative'], \n",
       "       dtype='|S50'),\n",
       " 'it business systems analyst': array(['advanced engg systems engr',\n",
       "        'business applications/systems analyst',\n",
       "        'director, business system analysis',\n",
       "        'distribution and business analyst', 'it business systems analyst',\n",
       "        'management systems analst', 'marketing/business analyst',\n",
       "        'on site geoscience systems analyst'], \n",
       "       dtype='|S50'),\n",
       " 'lead computer consultant/programmer analyst': array(['enterprise solutions programmer analyst',\n",
       "        'lead computer consultant/programmer analyst',\n",
       "        'process consultant & operations analyst'], \n",
       "       dtype='|S50'),\n",
       " 'lecturer i - fellowship physician (radiology)': array(['lecturer i - fellowship physician (radiology)'], \n",
       "       dtype='|S50'),\n",
       " 'manager , biostatistics': array(['manager , biostatistics', 'manager of video systems group',\n",
       "        'manager/biostatistics'], \n",
       "       dtype='|S50'),\n",
       " 'mexican law consultant': array(['design & construction consultant', 'mexican law consultant',\n",
       "        'senior object technology consultant', 'software consultant',\n",
       "        'speech and language pathologist'], \n",
       "       dtype='|S50'),\n",
       " 'physician resident': array(['industrial designer-automotive', 'mathematician and math modeler',\n",
       "        'pgy 4 medical resident/fellow ', 'physical therapy assistant',\n",
       "        'physician ', 'physician resident', 'physician, internal medicine',\n",
       "        'physician/internist', 'production designer'], \n",
       "       dtype='|S50'),\n",
       " 'postdoctoral fellow': array(['post doctoral fellow', 'post doctoral fellow in zoology',\n",
       "        'postdoctoral appointee', 'postdoctoral fellow',\n",
       "        'postdoctoral scholar', 'postdoctoral scientist',\n",
       "        'postgraduate researcher iv'], \n",
       "       dtype='|S50'),\n",
       " 'progammer analyst': array(['budget analyst', 'derivatives analyst', 'mangement analyst',\n",
       "        'market research analyst', 'natural polymer chemist',\n",
       "        'progammer analyst', 'programmer analyst, level 2 ',\n",
       "        'programmer/analyst', 'programming analyst',\n",
       "        'sr. product support analyst', 'sr. systems analyst'], \n",
       "       dtype='|S50'),\n",
       " 'real estate appraisal management consultant': array(['real estate appraisal management consultant'], \n",
       "       dtype='|S50'),\n",
       " 'real estate manager': array([' nurse/team leader', 'dental laboratory manager ',\n",
       "        'director product management', 'front office manager',\n",
       "        'health and safety officer', 'human resource manager',\n",
       "        'portfolio analyst risk management', 'real estate broker',\n",
       "        'real estate manager', 'regional sales manager',\n",
       "        'tournament and events manager', 'web designer dba admin'], \n",
       "       dtype='|S50'),\n",
       " 'reporter': array(['auditor', 'correspondent', 'film editor', 'junior web programmer',\n",
       "        'manager, nursery', 'news reporter ', 'newswriter',\n",
       "        'registered nurse', 'reporter', 'sales promoter', 'ship surveyor'], \n",
       "       dtype='|S50'),\n",
       " 'research technician': array(['aircraft technician lead', 'chemical technician',\n",
       "        'emergency medical physician', 'helpers electricians',\n",
       "        'project technician', 'research analyst (horticulture)',\n",
       "        'research technician', 'senior research technician',\n",
       "        'sr. research technologist', 'sr. user support technician'], \n",
       "       dtype='|S50'),\n",
       " 'resident pgy-1 transitional year program': array(['resident pgy-1 transitional year program'], \n",
       "       dtype='|S50'),\n",
       " 'restaurant manager/director of operations': array(['restaurant manager/director of operations'], \n",
       "       dtype='|S50'),\n",
       " 'senior application developer': array(['computer specialist (application development)',\n",
       "        'gis application developer', 'senior application developer',\n",
       "        'senior applications engineer', 'senior international paralegal',\n",
       "        'senior website developer', 'web applications developer'], \n",
       "       dtype='|S50'),\n",
       " 'senior research associate': array(['clinical research associate ii', 'graduate research assistant',\n",
       "        'medical research assistant', 'member research staff',\n",
       "        'postdoctoralresearchassociate', 'principal research chemist',\n",
       "        'senior program associate', 'senior research associate',\n",
       "        'senior research chemist', 'staff research associate'], \n",
       "       dtype='|S50'),\n",
       " 'senior scientist': array(['computational scientist', 'materials scientist',\n",
       "        'scientist (chemist)', 'seconday school teacher',\n",
       "        'senior manager tax dept', 'senior scientist',\n",
       "        'senior specialist, it', 'specialist ii-it', 'staff scientist i',\n",
       "        'unix administrator'], \n",
       "       dtype='|S50'),\n",
       " 'sheet metal worker and supervisor': array(['sheet metal worker and supervisor'], \n",
       "       dtype='|S50'),\n",
       " 'software design engineer/level 62': array(['software design engineer 1 & 2',\n",
       "        'software design engineer/level 62',\n",
       "        'software design engineer/level 64'], \n",
       "       dtype='|S50'),\n",
       " 'software development engineer': array(['business development manager ',\n",
       "        'market research/development manager',\n",
       "        'senior project development engineer',\n",
       "        'software development engineer', 'software development engineer ii',\n",
       "        'software project engineer', 'sr software development engineer'], \n",
       "       dtype='|S50'),\n",
       " 'software engineer (appl engineer 4, proj leader)': array(['software engineer (appl engineer 4, proj leader)'], \n",
       "       dtype='|S50'),\n",
       " 'software engineer (senior member, technical staff)': array(['software engineer (senior member, technical staff)'], \n",
       "       dtype='|S50'),\n",
       " 'software engineer (software development director)': array(['software engineer (software development director)'], \n",
       "       dtype='|S50'),\n",
       " 'software engineer - level 1': array(['mechanical engineering designer', 'software engineer (consultant)',\n",
       "        'software engineer (project lead)', 'software engineer - level 1',\n",
       "        'software engineer - systems', 'software engineer, level 2'], \n",
       "       dtype='|S50'),\n",
       " 'sr bus developer japanese bus organizatio': array(['sr bus developer japanese bus organizatio'], \n",
       "       dtype='|S50'),\n",
       " 'sr. software developer': array(['computer sytem & software developer',\n",
       "        'consultant appl development', 'eng. manager/repair development',\n",
       "        'oracle/java software developer', 'primary care provider',\n",
       "        'software developer ii', 'sr. software developer'], \n",
       "       dtype='|S50'),\n",
       " 'systems engineer iii': array(['rf systems engineer', 'software engineer iii',\n",
       "        'systems accountant', 'systems analyst i', 'systems designer',\n",
       "        'systems developer i', 'systems engineer iii',\n",
       "        'systems engineering tech. - it'], \n",
       "       dtype='|S50'),\n",
       " 'systems software engineer': array(['cad software engineer', 'oracle software engineer',\n",
       "        'research software design engineer',\n",
       "        'staff senior software engineer', 'systems software engineer',\n",
       "        'systems/software engineer'], \n",
       "       dtype='|S50'),\n",
       " 'vice president & chief operating officer': array(['vice president & chief operating officer',\n",
       "        \"vice president, int'l compensation & benefits\"], \n",
       "       dtype='|S50'),\n",
       " 'vice president/investment strategist uk equities': array(['vice president/investment strategist uk equities'], \n",
       "       dtype='|S50'),\n",
       " 'vp na field operations': array(['v.p. engineering & operations', 'vp na field operations'], \n",
       "       dtype='|S50')}"
      ]
     },
     "execution_count": 24,
     "metadata": {},
     "output_type": "execute_result"
    }
   ],
   "source": [
    "clusters = orderClusters(jobs_array)\n",
    "clusters"
   ]
  },
  {
   "cell_type": "markdown",
   "metadata": {},
   "source": [
    "Definitely not bad for a first run through! Starting from the top, a lot of these make sense. The first key is 'Account Executive', and the cluster includes values like 'Accountant/Bursar', which is indeed similar."
   ]
  },
  {
   "cell_type": "markdown",
   "metadata": {},
   "source": [
    "If we adjust the \"preference\" argument, we can force the algorithm to employ more clusters. To see how changing the preference changes our cluster size, we'll run it a few different times to find the length of the dictionary (i.e. the number of exemplars)."
   ]
  },
  {
   "cell_type": "code",
   "execution_count": 25,
   "metadata": {
    "collapsed": false
   },
   "outputs": [
    {
     "data": {
      "text/plain": [
       "179"
      ]
     },
     "execution_count": 25,
     "metadata": {},
     "output_type": "execute_result"
    }
   ],
   "source": [
    "affprop = sklearn.cluster.AffinityPropagation(affinity=\"precomputed\", damping = 0.5, preference = -10)\n",
    "affprop.fit(lev_similarity)\n",
    "clusters = orderClusters(jobs_array)\n",
    "len(clusters)"
   ]
  },
  {
   "cell_type": "code",
   "execution_count": 26,
   "metadata": {
    "collapsed": false
   },
   "outputs": [
    {
     "data": {
      "text/plain": [
       "269"
      ]
     },
     "execution_count": 26,
     "metadata": {},
     "output_type": "execute_result"
    }
   ],
   "source": [
    "affprop = sklearn.cluster.AffinityPropagation(affinity=\"precomputed\", damping = 0.5, preference = -5)\n",
    "affprop.fit(lev_similarity)\n",
    "clusters = orderClusters(jobs_array)\n",
    "len(clusters)"
   ]
  },
  {
   "cell_type": "markdown",
   "metadata": {},
   "source": [
    "The total number of data points that we grabbed is close to being reached, so we can see that as the preference approaches 0, we approach no clusters."
   ]
  },
  {
   "cell_type": "markdown",
   "metadata": {},
   "source": [
    "So how the heck are we supposed to know how many clusters are correct = what preference to use? Well, that's a great question, and the subject of this exact research paper from Cornell: https://arxiv.org/abs/0805.1096. The basic idea is – keep iterating until you converge on the right amount of clusters. It's called \"Adaptive Affinity Propagation.\""
   ]
  },
  {
   "cell_type": "markdown",
   "metadata": {
    "collapsed": true
   },
   "source": [
    "The question is – how can we define a measure for the \"right\" amount of clusters? "
   ]
  },
  {
   "cell_type": "code",
   "execution_count": null,
   "metadata": {
    "collapsed": true
   },
   "outputs": [],
   "source": []
  }
 ],
 "metadata": {
  "anaconda-cloud": {},
  "kernelspec": {
   "display_name": "Python [Root]",
   "language": "python",
   "name": "Python [Root]"
  },
  "language_info": {
   "codemirror_mode": {
    "name": "ipython",
    "version": 2
   },
   "file_extension": ".py",
   "mimetype": "text/x-python",
   "name": "python",
   "nbconvert_exporter": "python",
   "pygments_lexer": "ipython2",
   "version": "2.7.12"
  }
 },
 "nbformat": 4,
 "nbformat_minor": 0
}
